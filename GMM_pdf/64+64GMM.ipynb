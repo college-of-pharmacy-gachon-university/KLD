{
 "cells": [
  {
   "cell_type": "code",
   "execution_count": 5,
   "metadata": {},
   "outputs": [
    {
     "name": "stdout",
     "output_type": "stream",
     "text": [
      "Using matplotlib backend: Qt5Agg\n",
      "Populating the interactive namespace from numpy and matplotlib\n"
     ]
    }
   ],
   "source": [
    "#This program makes the Gaussian mixture model of Tanimoto coefficients(from openeye-toolkit)\n",
    "from __future__ import print_function   #Environment : Python3.6(Anaconda 5.2.0)\n",
    "import pandas as pd                      #At least 32GB Ram needed to run this program\n",
    "import numpy as np\n",
    "import scipy.stats\n",
    "import matplotlib.pyplot as plt\n",
    "from sklearn.mixture import GMM\n",
    "%pylab\n",
    "data=pd.read_csv('10003+10003-4.csv' )     #Reads the Tanimoto Coeff data\n",
    "data.fillna(0, inplace = True)     # Substitute NaN into Zero value"
   ]
  },
  {
   "cell_type": "code",
   "execution_count": 6,
   "metadata": {},
   "outputs": [],
   "source": [
    "#Take each columns(queries) from the data,\n",
    "#Construct a list that integrate all queries\n",
    "integrated = []\n",
    "compounds={}      #Use Dictionary to stor each compounds\n",
    "for i in range(1, 13958):    #1 to 13957\n",
    "    compounds[i]=data.iloc [:, i].values\n",
    "    integrated.extend(compounds[i].tolist()) \n",
    "#transformation into numpy array, 194797849=13957*13957\n",
    "Q1 = np.array(integrated, dtype=float).reshape(194797849, 1)  "
   ]
  },
  {
   "cell_type": "code",
   "execution_count": 7,
   "metadata": {},
   "outputs": [
    {
     "name": "stderr",
     "output_type": "stream",
     "text": [
      "C:\\ProgramData\\Anaconda3\\lib\\site-packages\\sklearn\\utils\\deprecation.py:58: DeprecationWarning: Class GMM is deprecated; The class GMM is deprecated in 0.18 and will be  removed in 0.20. Use class GaussianMixture instead.\n",
      "  warnings.warn(msg, category=DeprecationWarning)\n",
      "C:\\ProgramData\\Anaconda3\\lib\\site-packages\\sklearn\\utils\\deprecation.py:77: DeprecationWarning: Function distribute_covar_matrix_to_match_covariance_type is deprecated; The function distribute_covar_matrix_to_match_covariance_typeis deprecated in 0.18 and will be removed in 0.20.\n",
      "  warnings.warn(msg, category=DeprecationWarning)\n",
      "C:\\ProgramData\\Anaconda3\\lib\\site-packages\\sklearn\\utils\\deprecation.py:77: DeprecationWarning: Function log_multivariate_normal_density is deprecated; The function log_multivariate_normal_density is deprecated in 0.18 and will be removed in 0.20.\n",
      "  warnings.warn(msg, category=DeprecationWarning)\n",
      "C:\\ProgramData\\Anaconda3\\lib\\site-packages\\sklearn\\utils\\deprecation.py:77: DeprecationWarning: Function log_multivariate_normal_density is deprecated; The function log_multivariate_normal_density is deprecated in 0.18 and will be removed in 0.20.\n",
      "  warnings.warn(msg, category=DeprecationWarning)\n",
      "C:\\ProgramData\\Anaconda3\\lib\\site-packages\\sklearn\\utils\\deprecation.py:77: DeprecationWarning: Function log_multivariate_normal_density is deprecated; The function log_multivariate_normal_density is deprecated in 0.18 and will be removed in 0.20.\n",
      "  warnings.warn(msg, category=DeprecationWarning)\n",
      "C:\\ProgramData\\Anaconda3\\lib\\site-packages\\sklearn\\utils\\deprecation.py:77: DeprecationWarning: Function log_multivariate_normal_density is deprecated; The function log_multivariate_normal_density is deprecated in 0.18 and will be removed in 0.20.\n",
      "  warnings.warn(msg, category=DeprecationWarning)\n"
     ]
    }
   ],
   "source": [
    "# Gaussian mixture model fitting\n",
    "N = np.arange(1, 2)              #Choose the number of Mixture model(1 component)\n",
    "models = [None for i in range(len(N))]\n",
    "\n",
    "for i in range(len(N)):                  #Use GMM Fit Method from Scikit Learn\n",
    "    models[i] = GMM(N[i]).fit(Q1)\n",
    "    \n",
    "# compute the AIC for our Gaussian mixture model\n",
    "AIC = [m.aic(Q1) for m in models]\n",
    "M_best = models[np.argmin(AIC)]\n",
    "x = np.linspace(0, 2, 100).reshape(-1, 1)    #x-axis\n",
    "logprob, responsibilities = M_best.score_samples(x)\n",
    "pdf = np.exp(logprob)                                  #Take the probability density value\n",
    "pdf_individual = responsibilities * pdf[:, np.newaxis] #Individual pdf component"
   ]
  },
  {
   "cell_type": "code",
   "execution_count": 8,
   "metadata": {},
   "outputs": [],
   "source": [
    "plot(x, pdf, label=\"The Gaussian mixture Model\")    #saves the plot of the GMM pdf\n",
    "plt.legend(loc=1)\n",
    "plt.savefig(\"GMM.png\")\n",
    "np.savetxt(\"pdf.csv\", pdf, delimiter=\",\")         #Save the pdf into the csv file\n",
    "np.savetxt(\"indiv_pdf.csv\", pdf_individual, delimiter=\",\")"
   ]
  },
  {
   "cell_type": "code",
   "execution_count": null,
   "metadata": {},
   "outputs": [],
   "source": []
  }
 ],
 "metadata": {
  "kernelspec": {
   "display_name": "Python 3",
   "language": "python",
   "name": "python3"
  },
  "language_info": {
   "codemirror_mode": {
    "name": "ipython",
    "version": 3
   },
   "file_extension": ".py",
   "mimetype": "text/x-python",
   "name": "python",
   "nbconvert_exporter": "python",
   "pygments_lexer": "ipython3",
   "version": "3.6.5"
  }
 },
 "nbformat": 4,
 "nbformat_minor": 2
}
